{
 "cells": [
  {
   "cell_type": "code",
   "execution_count": 1,
   "metadata": {
    "scrolled": true
   },
   "outputs": [
    {
     "name": "stderr",
     "output_type": "stream",
     "text": [
      "WARNING: Logging before flag parsing goes to stderr.\n",
      "W0127 14:58:06.981426 140005688190720 deprecation.py:506] From /home/grads/e/ethanycx/anaconda3/envs/ame/lib/python3.7/site-packages/tensorflow/python/ops/init_ops.py:1251: calling VarianceScaling.__init__ (from tensorflow.python.ops.init_ops) with dtype is deprecated and will be removed in a future version.\n",
      "Instructions for updating:\n",
      "Call initializer instance with the dtype argument instead of passing it to the constructor\n"
     ]
    }
   ],
   "source": [
    "import os, fnmatch, cv2\n",
    "import numpy as np\n",
    "import matplotlib.pyplot as plt\n",
    "from imageio import imread\n",
    "from register import alignImages\n",
    "from skimage.measure import compare_ssim\n",
    "\n",
    "from models import UNet2D\n",
    "os.environ['CUDA_VISIBLE_DEVICES']='3'"
   ]
  },
  {
   "cell_type": "code",
   "execution_count": 2,
   "metadata": {},
   "outputs": [],
   "source": [
    "data_path = 'Paired SEM images/'\n",
    "fnames = os.listdir(data_path)\n",
    "hr_fnames = sorted([data_path+fname for fname in fnames if fnmatch.fnmatch(fname, '*20000.bmp')])\n",
    "lr_fnames = sorted([data_path+fname for fname in fnames if fnmatch.fnmatch(fname, '*10000.bmp')])\n",
    "\n",
    "hr_lst = [imread(f)[:944] for f in hr_fnames]\n",
    "lr_lst = [imread(f)[:944] for f in lr_fnames]\n",
    "lr_reg_lst = [alignImages(lr_lst[idx], hr_lst[idx])[0] for idx in range(len(hr_lst))]"
   ]
  },
  {
   "cell_type": "code",
   "execution_count": 3,
   "metadata": {
    "scrolled": true
   },
   "outputs": [],
   "source": [
    "model = UNet2D('models/', 'pooled_batch8_lib64_kshape')\n",
    "sources = np.array(lr_reg_lst)[:22,:,:960][...,None]/255.0\n",
    "targets = np.array(hr_lst)[:22,:,:960][...,None]/255.0\n",
    "\n",
    "test_X = np.vstack([np.array(lr_reg_lst)[:22,:312, 960:], np.array(lr_reg_lst)[:22,312:624, 960:], np.array(lr_reg_lst)[:22,624:936, 960:]])/255.0\n",
    "test_Y = np.vstack([np.array(hr_lst)[:22,:312, 960:], np.array(hr_lst)[:22,312:624, 960:], np.array(hr_lst)[:22,624:936, 960:]])/255.0\n",
    "\n",
    "# model.train(sources, targets, [256, 256], validation = None, steps = 120000, batch_size = 8, seed = 1)"
   ]
  },
  {
   "cell_type": "code",
   "execution_count": 4,
   "metadata": {},
   "outputs": [],
   "source": [
    "def evaluate_psnr_wh(idx, getimg=False, size=256, save_to=None):\n",
    "    model = UNet2D('models/', 'pooled_batch8_lib64_kshape')\n",
    "    test_X = np.stack([lr_reg_lst[idx][:314, 960:], lr_reg_lst[idx][314:628, 960:], lr_reg_lst[idx][628:942, 960:]])\n",
    "    test_Y = np.stack([hr_lst[idx][:314, 960:], hr_lst[idx][314:628, 960:], hr_lst[idx][628:942, 960:]])\n",
    "    \n",
    "    if size is None:\n",
    "        pred = model.predict(np.array(lr_reg_lst[idx:idx+1]).astype('float32')/255.0)[0]\n",
    "    else:\n",
    "        pred = model.crop_predict(np.array(lr_reg_lst[idx]).astype('float32')/255.0, size=size, margin=32)\n",
    "    pred = np.stack([pred[:314, 960:], pred[314:628, 960:], pred[628:942, 960:]])\n",
    "    input_psnrs = np.array([cv2.PSNR(x, y) for x, y in zip(test_X, test_Y)])\n",
    "    pred_psnrs = np.array([cv2.PSNR(np.clip(x*255, 0, 255), y.astype('float32')) for x, y in zip(pred, test_Y)])\n",
    "    \n",
    "    input_ssims = np.array([compare_ssim(x, y, data_range=255.0) for x, y in zip(test_X, test_Y)])\n",
    "    pred_ssims = np.array([compare_ssim(np.clip(x*255, 0, 255), y.astype('float32'), data_range=255.0) for x, y in zip(pred, test_Y)])\n",
    "    if getimg:\n",
    "        print(-input_psnrs+pred_psnrs)\n",
    "        return pred\n",
    "    if save_to:\n",
    "        save_array = np.stack([test_X, test_Y, pred])\n",
    "        np.save(save_to, save_array)\n",
    "\n",
    "    return input_psnrs, pred_psnrs, input_ssims, pred_ssims"
   ]
  },
  {
   "cell_type": "code",
   "execution_count": 6,
   "metadata": {},
   "outputs": [],
   "source": [
    "def evaluate_mean_wh(size, save_to=None):\n",
    "    if save_to:\n",
    "        mip, mpp, mis, mps = np.stack([evaluate_psnr_wh(idx,size=size, save_to=save_to+'%d.npy'%idx) for idx in range(22)]).mean((0, -1))\n",
    "#     else:\n",
    "    return mpp-mip, mps-mis"
   ]
  },
  {
   "cell_type": "code",
   "execution_count": 10,
   "metadata": {},
   "outputs": [
    {
     "name": "stdout",
     "output_type": "stream",
     "text": [
      "(2.0986001093646856, 0.08660230379886646)\n",
      "(1.9921139749495325, 0.0867660098926189)\n",
      "(1.8940178657562967, 0.0860400328388457)\n",
      "(1.8401389625750575, 0.08515587293785803)\n",
      "(1.302734046356946, 0.07973252207721482)\n"
     ]
    }
   ],
   "source": [
    "# batch8_lib64_kshape\n",
    "print(evaluate_mean_wh(None))\n",
    "print(evaluate_mean_wh(512))\n",
    "print(evaluate_mean_wh(384))\n",
    "print(evaluate_mean_wh(256))\n",
    "print(evaluate_mean_wh(128))"
   ]
  },
  {
   "cell_type": "code",
   "execution_count": null,
   "metadata": {},
   "outputs": [
    {
     "name": "stderr",
     "output_type": "stream",
     "text": [
      "W0727 13:07:42.158524 139913352476416 deprecation_wrapper.py:119] From /home/grads/e/ethanycx/nb_working_space/SEM/models.py:143: The name tf.logging.set_verbosity is deprecated. Please use tf.compat.v1.logging.set_verbosity instead.\n",
      "\n",
      "W0727 13:07:42.160198 139913352476416 deprecation_wrapper.py:119] From /home/grads/e/ethanycx/nb_working_space/SEM/models.py:143: The name tf.logging.ERROR is deprecated. Please use tf.compat.v1.logging.ERROR instead.\n",
      "\n"
     ]
    },
    {
     "name": "stdout",
     "output_type": "stream",
     "text": [
      "(2.015785924642465, 0.08492159461281923)\n",
      "(1.9880621897474633, 0.08548796755541299)\n",
      "(1.9423706305880444, 0.08534492186031684)\n",
      "(1.796649630084918, 0.08428913259481807)\n"
     ]
    }
   ],
   "source": [
    "# batch8_lib32_kshape\n",
    "print(evaluate_mean_wh(None))\n",
    "print(evaluate_mean_wh(512))\n",
    "print(evaluate_mean_wh(384))\n",
    "print(evaluate_mean_wh(256))\n",
    "print(evaluate_mean_wh(128))"
   ]
  },
  {
   "cell_type": "code",
   "execution_count": 6,
   "metadata": {},
   "outputs": [
    {
     "name": "stderr",
     "output_type": "stream",
     "text": [
      "W0728 01:35:03.791324 140661837297408 deprecation_wrapper.py:119] From /home/grads/e/ethanycx/nb_working_space/SEM/models.py:143: The name tf.logging.set_verbosity is deprecated. Please use tf.compat.v1.logging.set_verbosity instead.\n",
      "\n",
      "W0728 01:35:03.792351 140661837297408 deprecation_wrapper.py:119] From /home/grads/e/ethanycx/nb_working_space/SEM/models.py:143: The name tf.logging.ERROR is deprecated. Please use tf.compat.v1.logging.ERROR instead.\n",
      "\n"
     ]
    },
    {
     "name": "stdout",
     "output_type": "stream",
     "text": [
      "(2.0170695768533804, 0.08527970102854315)\n",
      "(1.9834225485905215, 0.08628199959832783)\n",
      "(1.8570835894125999, 0.08540288425241077)\n",
      "(1.6898606510306031, 0.08332093648147659)\n",
      "(1.297795669278134, 0.07987768364141379)\n"
     ]
    }
   ],
   "source": [
    "# batch8_lib16_kshape\n",
    "print(evaluate_mean_wh(None))\n",
    "print(evaluate_mean_wh(512))\n",
    "print(evaluate_mean_wh(384))\n",
    "print(evaluate_mean_wh(256))\n",
    "print(evaluate_mean_wh(128))"
   ]
  }
 ],
 "metadata": {
  "kernelspec": {
   "display_name": "Python 3",
   "language": "python",
   "name": "python3"
  },
  "language_info": {
   "codemirror_mode": {
    "name": "ipython",
    "version": 3
   },
   "file_extension": ".py",
   "mimetype": "text/x-python",
   "name": "python",
   "nbconvert_exporter": "python",
   "pygments_lexer": "ipython3",
   "version": "3.7.2"
  }
 },
 "nbformat": 4,
 "nbformat_minor": 2
}
